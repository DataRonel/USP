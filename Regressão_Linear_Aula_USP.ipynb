{
  "nbformat": 4,
  "nbformat_minor": 0,
  "metadata": {
    "colab": {
      "provenance": [],
      "authorship_tag": "ABX9TyPRSKZcMgcDutBnwqHTYbbP",
      "include_colab_link": true
    },
    "kernelspec": {
      "name": "python3",
      "display_name": "Python 3"
    },
    "language_info": {
      "name": "python"
    }
  },
  "cells": [
    {
      "cell_type": "markdown",
      "metadata": {
        "id": "view-in-github",
        "colab_type": "text"
      },
      "source": [
        "<a href=\"https://colab.research.google.com/github/daniel-usp/USP/blob/main/Regress%C3%A3o_Linear_Aula_USP.ipynb\" target=\"_parent\"><img src=\"https://colab.research.google.com/assets/colab-badge.svg\" alt=\"Open In Colab\"/></a>"
      ]
    },
    {
      "cell_type": "code",
      "execution_count": 1,
      "metadata": {
        "colab": {
          "base_uri": "https://localhost:8080/"
        },
        "id": "yLTb_OsThw_y",
        "outputId": "a5a2bbca-30a7-4b20-ad6c-883ba26e2b68"
      },
      "outputs": [
        {
          "output_type": "stream",
          "name": "stdout",
          "text": [
            "Visualizando os primeiros registros do arquivo carregado:\n",
            "   Price  Demand\n",
            "0      4       2\n",
            "1      6       1\n",
            "2      3       3\n",
            "3      5       1\n",
            "4      1       4\n",
            "\n",
            "Verificando valores nulos:\n",
            "Preco         0\n",
            "Quantidade    0\n",
            "dtype: int64\n",
            "\n",
            "Resumo da regressão linear:\n",
            "                            OLS Regression Results                            \n",
            "==============================================================================\n",
            "Dep. Variable:             Quantidade   R-squared:                       0.943\n",
            "Model:                            OLS   Adj. R-squared:                  0.929\n",
            "Method:                 Least Squares   F-statistic:                     66.00\n",
            "Date:                Wed, 05 Feb 2025   Prob (F-statistic):            0.00125\n",
            "Time:                        23:52:59   Log-Likelihood:               -0.52904\n",
            "No. Observations:                   6   AIC:                             5.058\n",
            "Df Residuals:                       4   BIC:                             4.642\n",
            "Df Model:                           1                                         \n",
            "Covariance Type:            nonrobust                                         \n",
            "==============================================================================\n",
            "                 coef    std err          t      P>|t|      [0.025      0.975]\n",
            "------------------------------------------------------------------------------\n",
            "const          4.5333      0.301     15.045      0.000       3.697       5.370\n",
            "Preco         -0.6286      0.077     -8.124      0.001      -0.843      -0.414\n",
            "==============================================================================\n",
            "Omnibus:                          nan   Durbin-Watson:                   2.398\n",
            "Prob(Omnibus):                    nan   Jarque-Bera (JB):                0.509\n",
            "Skew:                          -0.203   Prob(JB):                        0.775\n",
            "Kurtosis:                       1.633   Cond. No.                         9.36\n",
            "==============================================================================\n",
            "\n",
            "Notes:\n",
            "[1] Standard Errors assume that the covariance matrix of the errors is correctly specified.\n"
          ]
        },
        {
          "output_type": "stream",
          "name": "stderr",
          "text": [
            "/usr/local/lib/python3.11/dist-packages/statsmodels/stats/stattools.py:74: ValueWarning: omni_normtest is not valid with less than 8 observations; 6 samples were given.\n",
            "  warn(\"omni_normtest is not valid with less than 8 observations; %i \"\n"
          ]
        }
      ],
      "source": [
        "# Importamos as bibliotecas necessárias\n",
        "import pandas as pd  # Para manipulação de dados\n",
        "import statsmodels.api as sm  # Para rodar a regressão linear\n",
        "\n",
        "# Definimos o caminho do arquivo que foi enviado para o Google Colab\n",
        "caminho_arquivo = \"exemplo.xlsx\"\n",
        "\n",
        "# Carregamos os dados do arquivo Excel para um DataFrame do pandas\n",
        "df = pd.read_excel(caminho_arquivo)\n",
        "\n",
        "# Exibimos as primeiras linhas do DataFrame para entender a estrutura dos dados\n",
        "print(\"Visualizando os primeiros registros do arquivo carregado:\")\n",
        "print(df.head())\n",
        "\n",
        "# Renomeie as colunas, se necessário, para facilitar a manipulação\n",
        "# (Supondo que a planilha tenha colunas como \"Preço\" e \"Quantidade\")\n",
        "df.columns = [\"Preco\", \"Quantidade\"]\n",
        "\n",
        "# Verificamos se há valores nulos nos dados\n",
        "print(\"\\nVerificando valores nulos:\")\n",
        "print(df.isnull().sum())\n",
        "\n",
        "# Se houver valores nulos, podemos removê-los ou tratá-los\n",
        "df = df.dropna()  # Aqui estamos removendo valores nulos\n",
        "\n",
        "# Definimos a variável independente (X) e a variável dependente (y)\n",
        "X = df[\"Preco\"]  # O preço da passagem é a variável explicativa\n",
        "y = df[\"Quantidade\"]  # A quantidade de assentos vendidos é a variável dependente\n",
        "\n",
        "# Em modelos de regressão, é importante adicionar uma constante para o intercepto\n",
        "X = sm.add_constant(X)  # Adicionamos uma constante para o modelo\n",
        "\n",
        "# Criamos o modelo de regressão linear\n",
        "modelo = sm.OLS(y, X)  # Especificamos que queremos uma regressão dos mínimos quadrados ordinários\n",
        "\n",
        "# Estimamos os parâmetros do modelo ajustando os dados\n",
        "resultado = modelo.fit()\n",
        "\n",
        "# Exibimos o resumo do modelo com estatísticas detalhadas\n",
        "print(\"\\nResumo da regressão linear:\")\n",
        "print(resultado.summary())\n",
        "\n",
        "# Interpretando os coeficientes:\n",
        "# Se o coeficiente do preço for negativo e estatisticamente significativo,\n",
        "# isso sugere que um aumento no preço reduz a quantidade de passagens vendidas.\n"
      ]
    }
  ]
}